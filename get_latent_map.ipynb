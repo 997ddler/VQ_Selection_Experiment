{
 "cells": [
  {
   "cell_type": "code",
   "execution_count": 6,
   "metadata": {},
   "outputs": [],
   "source": [
    "import numpy as np\n",
    "import yaml\n",
    "import os\n",
    "import torch\n",
    "import torchvision\n",
    "import torchvision.transforms as transforms\n",
    "from models.VQ_VAE import VQVAE"
   ]
  },
  {
   "cell_type": "markdown",
   "metadata": {},
   "source": [
    "# Load the model"
   ]
  },
  {
   "cell_type": "code",
   "execution_count": null,
   "metadata": {},
   "outputs": [],
   "source": [
    "# load the model\n",
    "config_path = '/home/wenhao/VQ_Selection/VQ_Selection_Real_Data/configs_codes_fixed_ratio/Cifar10_ori_16.yaml'\n",
    "config = yaml.load(open(config_path, 'r'), Loader=yaml.FullLoader)\n",
    "weights_path = os.path.join(config['train_configs']['save_dir'], 'model.pth')\n",
    "\n",
    "vq_params = config['model_configs']['vq_params']\n",
    "backbone_configs = config['model_configs']['backbone_configs']\n",
    "\n",
    "# load the model\n",
    "model = VQVAE(vq_params, backbone_configs)\n",
    "\n",
    "# load the weights\n",
    "model.load_state_dict(torch.load(weights_path, map_location='cpu', weights_only=True), strict=True)"
   ]
  },
  {
   "cell_type": "markdown",
   "metadata": {},
   "source": [
    "## Load the dataset"
   ]
  },
  {
   "cell_type": "code",
   "execution_count": 26,
   "metadata": {},
   "outputs": [],
   "source": [
    "# load the data\n",
    "batch_size = 64\n",
    "num_workers = 24\n",
    "\n",
    "transform = transforms.Compose([\n",
    "                                transforms.ToTensor(),\n",
    "                                transforms.Normalize((0.5, 0.5, 0.5), (0.5, 0.5, 0.5))\n",
    "                            ])\n",
    "train_dataset = torchvision.datasets.CIFAR10(root='/data/zwh', train=True, download=False, transform=transform)\n",
    "test_dataset = torchvision.datasets.CIFAR10(root='/data/zwh', train=False, download=False, transform=transform)\n",
    "\n",
    "train_dataset, val_dataset = torch.utils.data.random_split(train_dataset, [int(0.8 * len(train_dataset)), len(train_dataset) - int(0.8 * len(train_dataset))])\n",
    "\n",
    "train_loader = torch.utils.data.DataLoader(train_dataset, batch_size=batch_size, num_workers=num_workers, shuffle=True)\n",
    "val_loader = torch.utils.data.DataLoader(val_dataset, batch_size=batch_size, num_workers=num_workers, shuffle=False)\n",
    "test_loader = torch.utils.data.DataLoader(test_dataset, batch_size=batch_size, num_workers=num_workers, shuffle=False)\n",
    "\n",
    "device = torch.device('cuda' if torch.cuda.is_available() else 'cpu')\n",
    "\n"
   ]
  },
  {
   "cell_type": "markdown",
   "metadata": {},
   "source": [
    "## Get the latents for the dataset"
   ]
  },
  {
   "cell_type": "code",
   "execution_count": null,
   "metadata": {},
   "outputs": [],
   "source": [
    "def get_batch_latents(save_path,split='train'):\n",
    "    min_encodings_list = []\n",
    "    for batch_idx, (data, target) in enumerate(train_loader):\n",
    "        data = data.to(device)\n",
    "        latents = model.get_latents(data)\n",
    "        # For Cifar 10 Encoder will comprese original image 32 * 32 into latents 8 * 8\n",
    "        # min_encodings is the flattened latents after quantization   the shape is (batch_size * H * W, 1)\n",
    "        min_encodings = latents.view(data.shape[0], 8, 8, 1)\n",
    "\n",
    "        # reshape the min_encodings to (batch_size, H, W, 1)\n",
    "        min_encodings = min_encodings.permute(0, 3, 1, 2)\n",
    "        min_encodings = min_encodings.cpu().numpy()\n",
    "        min_encodings_list.append(min_encodings)\n",
    "    min_encodings = np.concatenate(min_encodings_list, axis=0)\n",
    "    \n",
    "    os.makedirs(save_path, exist_ok=True)\n",
    "    np.save(os.path.join(save_path, f'{split}_latents.npy'), min_encodings)\n",
    "\n",
    "\n",
    "\n",
    "# get latents for train dataset\n",
    "model.eval()\n",
    "model.to(device)\n",
    "train_save_path = './train_latents' \n",
    "test_save_path = './test_latents'\n",
    "val_save_path = './val_latents'\n",
    "\n",
    "# get latents for train dataset\n",
    "get_batch_latents(train_save_path, split='train')\n",
    "get_batch_latents(val_save_path, split='val')\n",
    "get_batch_latents(test_save_path, split='test')"
   ]
  }
 ],
 "metadata": {
  "kernelspec": {
   "display_name": "EMA",
   "language": "python",
   "name": "python3"
  },
  "language_info": {
   "codemirror_mode": {
    "name": "ipython",
    "version": 3
   },
   "file_extension": ".py",
   "mimetype": "text/x-python",
   "name": "python",
   "nbconvert_exporter": "python",
   "pygments_lexer": "ipython3",
   "version": "3.12.4"
  }
 },
 "nbformat": 4,
 "nbformat_minor": 2
}
